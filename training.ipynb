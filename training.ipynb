{
 "cells": [
  {
   "cell_type": "code",
   "execution_count": 1,
   "metadata": {},
   "outputs": [
    {
     "name": "stdout",
     "output_type": "stream",
     "text": [
      "Accuracy: 100.00%\n"
     ]
    },
    {
     "data": {
      "text/plain": [
       "['models/model.pkl']"
      ]
     },
     "execution_count": 1,
     "metadata": {},
     "output_type": "execute_result"
    }
   ],
   "source": [
    "import pandas as pd\n",
    "from sklearn.model_selection import train_test_split\n",
    "from sklearn.linear_model import LogisticRegression\n",
    "import warnings\n",
    "warnings.filterwarnings('ignore')\n",
    "\n",
    "# Load the preprocessed data\n",
    "africa_cup_data = pd.read_csv('data/afcon.csv')\n",
    "\n",
    "# Prepare the features and target variable\n",
    "X = africa_cup_data[['home_score', 'away_score', 'goal_difference', 'neutral']]\n",
    "y = africa_cup_data['winner']\n",
    "\n",
    "# Split the data into training and testing sets\n",
    "X_train, X_test, y_train, y_test = train_test_split(X, y, test_size=0.2, random_state=42)\n",
    "\n",
    "# Train the model\n",
    "model = LogisticRegression()\n",
    "model.fit(X_train, y_train)\n",
    "\n",
    "# Calculate and print the accuracy\n",
    "accuracy = model.score(X_test, y_test) * 100\n",
    "print(\"Accuracy: {:.2f}%\".format(accuracy))\n",
    "\n",
    "# Save the trained model\n",
    "import joblib\n",
    "joblib.dump(model, 'models/model.pkl')"
   ]
  }
 ],
 "metadata": {
  "kernelspec": {
   "display_name": "base",
   "language": "python",
   "name": "python3"
  },
  "language_info": {
   "codemirror_mode": {
    "name": "ipython",
    "version": 3
   },
   "file_extension": ".py",
   "mimetype": "text/x-python",
   "name": "python",
   "nbconvert_exporter": "python",
   "pygments_lexer": "ipython3",
   "version": "3.9.12"
  },
  "orig_nbformat": 4,
  "vscode": {
   "interpreter": {
    "hash": "0a81438dd1f338564126cb26db7a2e3d0e278be3b1168ecf4b86c1a37678443b"
   }
  }
 },
 "nbformat": 4,
 "nbformat_minor": 2
}
